{
  "nbformat": 4,
  "nbformat_minor": 0,
  "metadata": {
    "colab": {
      "name": "Test.ipynb",
      "provenance": [],
      "authorship_tag": "ABX9TyP2GvH/VPFxMhA/xw3Ev4FG",
      "include_colab_link": true
    },
    "kernelspec": {
      "name": "python3",
      "display_name": "Python 3"
    }
  },
  "cells": [
    {
      "cell_type": "markdown",
      "metadata": {
        "id": "view-in-github",
        "colab_type": "text"
      },
      "source": [
        "<a href=\"https://colab.research.google.com/github/hasanpoet/learningPython/blob/main/Test.ipynb\" target=\"_parent\"><img src=\"https://colab.research.google.com/assets/colab-badge.svg\" alt=\"Open In Colab\"/></a>"
      ]
    },
    {
      "cell_type": "code",
      "metadata": {
        "colab": {
          "base_uri": "https://localhost:8080/"
        },
        "id": "9HKr6j4BHCC-",
        "outputId": "b4c919b3-5a92-4d93-f8d8-27a2a008f7e6"
      },
      "source": [
        "import tensorflow as tf\n",
        "import numpy as np\n",
        "\n",
        "mnist = tf.keras.datasets.mnist\n",
        "(x_train, y_train), (x_test, y_test) = mnist.load_data()\n",
        "x_train, x_test = x_train / 255.0, x_test / 255.0\n",
        "\n",
        "# x_train is a stack of 2D images. It means, it's 3D.\n",
        "# x_train[x,y,stackIndex]\n",
        "# x_train[row,col,1]\n",
        "\n",
        "print(x_train[:,:,1])\n",
        "\n",
        "# model = tf.keras.models.Sequential([\n",
        "#   tf.keras.layers.Flatten(input_shape=(28, 28)),\n",
        "#   tf.keras.layers.Dense(128, activation='relu'),\n",
        "#   tf.keras.layers.Dropout(0.2),\n",
        "#   tf.keras.layers.Dense(10)\n",
        "# ])\n",
        "\n",
        "# predictions = model(x_train[:1]).numpy()\n",
        "# predictions\n",
        "\n",
        "# tf.nn.softmax(predictions).numpy()\n",
        "\n",
        "# loss_fn = tf.keras.losses.SparseCategoricalCrossentropy(from_logits=True)\n",
        "\n",
        "# loss_fn(y_train[:1], predictions).numpy()\n",
        "\n",
        "# model.compile(optimizer='adam',\n",
        "#               loss=loss_fn,\n",
        "#               metrics=['accuracy'])\n",
        "\n",
        "# model.fit(x_train, y_train, epochs=5)\n",
        "\n",
        "# model.evaluate(x_test,  y_test, verbose=2)\n",
        "\n",
        "# probability_model = tf.keras.Sequential([\n",
        "#   model,\n",
        "#   tf.keras.layers.Softmax()\n",
        "# ])\n",
        "\n",
        "# probability_model(x_test[:5])"
      ],
      "execution_count": 6,
      "outputs": [
        {
          "output_type": "stream",
          "text": [
            "[[0. 0. 0. ... 0. 0. 0.]\n",
            " [0. 0. 0. ... 0. 0. 0.]\n",
            " [0. 0. 0. ... 0. 0. 0.]\n",
            " ...\n",
            " [0. 0. 0. ... 0. 0. 0.]\n",
            " [0. 0. 0. ... 0. 0. 0.]\n",
            " [0. 0. 0. ... 0. 0. 0.]]\n"
          ],
          "name": "stdout"
        }
      ]
    },
    {
      "cell_type": "markdown",
      "metadata": {
        "id": "rfFKlYZrJLpV"
      },
      "source": [
        "This is an example code for python"
      ]
    }
  ]
}